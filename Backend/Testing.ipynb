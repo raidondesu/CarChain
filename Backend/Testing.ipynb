{
 "cells": [
  {
   "cell_type": "code",
   "execution_count": 1,
   "metadata": {},
   "outputs": [],
   "source": [
    "from csv import writer \n",
    "\n",
    "\n",
    "class CSV:\n",
    "\n",
    "    def __init__(self):\n",
    "\n",
    "        pass\n",
    "\n",
    "\n",
    "    def add_block(self, block_type, block_data):\n",
    "\n",
    "        with open(\"storage/blockchain.csv\", 'a+', newline='') as f:\n",
    "            csv_writer = writer(f)\n",
    "            csv_writer.writerow([\"third row?\"])\n",
    "\n",
    "\n",
    "    def add_adress(self, address):\n",
    "\n",
    "        with open(\"storage/adresses.csv\", 'a+', newline='') as f:\n",
    "            csv_writer = writer(f)\n",
    "            csv_writer.writerow([\"third row?\"])\n",
    "\n",
    "\n",
    "    def read_chain(self):\n",
    "\n",
    "        \"\"\"\n",
    "        generator to go through blockchain and compare the hash of each row\n",
    "        to the hash stored in the next row\n",
    "        \"\"\"\n",
    "\n",
    "\n",
    "        pass\n",
    "\n",
    "\n",
    "    def read_adresses(self):\n",
    "\n",
    "        \"\"\"\n",
    "        generator to yield adresses, row for row\n",
    "        \"\"\"\n",
    "\n",
    "        pass\n",
    "\n"
   ]
  },
  {
   "cell_type": "code",
   "execution_count": null,
   "metadata": {},
   "outputs": [],
   "source": []
  }
 ],
 "metadata": {
  "kernelspec": {
   "display_name": "Spotify (Python3)",
   "language": "python",
   "name": "spotify"
  },
  "language_info": {
   "codemirror_mode": {
    "name": "ipython",
    "version": 3
   },
   "file_extension": ".py",
   "mimetype": "text/x-python",
   "name": "python",
   "nbconvert_exporter": "python",
   "pygments_lexer": "ipython3",
   "version": "3.7.0"
  }
 },
 "nbformat": 4,
 "nbformat_minor": 4
}
